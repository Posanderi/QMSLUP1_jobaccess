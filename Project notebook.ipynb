{
 "cells": [
  {
   "cell_type": "markdown",
   "id": "d5eb82ad",
   "metadata": {},
   "source": [
    "## Analysing the correlation between accessibility of jobs and unemployment in the capital region of Finland\n",
    "\n",
    "This notebook was produced for analysing the correlation between job accessibility and unemployment between different YKR grid cells (250x250m resolution) located in the Finnish capital region. The used data are the following:\n",
    "\n",
    "- YKR demographic data from the year 2020 (SYKE, 2020: https://www.stat.fi/tup/ykraineistot/index.html):  YKR grids in the Helsinki region area, where there is at least a single person living within a cell. The data also contains various demographic information like the gender, income, employment status etc. of the inhabitants\n",
    "    - This data is used to extract the number of employed and unemployed people residing in the grid cell and further the unemployment rate\n",
    "    - Due to privacy reasons, in cells with too few people the number of employed and unemployed people are not told and marked with -1. These are filtered out\n",
    "    - Unemployment rate has already been calculated beforehand by dividing the number of unemployed people with the number of both employed and unemployed people in each cell to a new column (\"tyott\")\n",
    "\n",
    "- Data on the number of people employed in companies located within each grid cell (HSY, 2015: https://hri.fi/data/en_GB/dataset/helsingin-seudun-tyopaikkaruudukko) \n",
    "    - The data contains only private companies and non-public organisations\n",
    "    - This dataset has already been combined to the demographic data beforehand\n",
    "    \n",
    "- Helsinki travel time matrix (Digital Geography Lab, 2018: https://blogs.helsinki.fi/accessibility/helsinki-region-travel-time-matrix-2018/)\n",
    "    - Data on the estimated travel time to each YKR-grid cell from all the other grid cells in the capital region area. The dataset contains travel times of various different kinds of tranport modes and conditions, from which the following travel time metrics were chosen for analysis:\n",
    "        - Travel times by walking (70 meters/minute)\n",
    "        - Travel times by cycling (12km/hour). THe time also includes one minute extra for picking up and returning the bike\n",
    "        - Travel times by public transportation (rush hour, includes the whole travel chain liek for example waiting at home and at the station\n",
    "        - Travel times by car (rush hour, includes time for walking to the car, and finding a slot for parking)\n",
    "    - The data is provided in separate text files for each grid cell, which contains the travel times to each other grid cells in the area using different transportation modes\n",
    "\n",
    "Workflow for the data processing is following:\n",
    "\n",
    "- Loop over the travel time matrix files and do the following:\n",
    "    - Only read the file if the grid cell ID is found in the YKR grid\n",
    "    - Join the travel time data with the dataframe on job and population in each grid cell\n",
    "    - Do the following:\n",
    "       - Calculate the average travel time to all the jobs in the Helsinki region for each transport mode for each cell to a new column\n",
    "       - Calculate the number of jobs within 30 minutes (the average travel time to work in the capital region) for each transport mode and for each cell to a new column\n",
    "- Join this data to the population YKR-grid cell by cell and save the dataframe with new columns included\n",
    "- Create correlation graphs showing the unemployment and job access in their own axes\n",
    "   "
   ]
  },
  {
   "cell_type": "code",
   "execution_count": null,
   "id": "03f6d165",
   "metadata": {},
   "outputs": [],
   "source": [
    "#Import necessary libraries\n",
    "import pandas as pd\n",
    "import geopandas as gpd\n",
    "import os\n",
    "import numpy as np\n",
    "import matplotlib.pyplot as plt\n",
    "from scipy import stats"
   ]
  },
  {
   "cell_type": "code",
   "execution_count": null,
   "id": "9806a468",
   "metadata": {},
   "outputs": [],
   "source": [
    "#Read the YKR dataset with unemplyment and job numbers in each cell\n",
    "grid_data=gpd.read_file(\"ykr_jobaccess.gpkg\")"
   ]
  },
  {
   "cell_type": "code",
   "execution_count": null,
   "id": "d7af295c",
   "metadata": {},
   "outputs": [],
   "source": [
    "#folder containing the traveltimes to each cell\n",
    "matrixfold=\"data\\\\HelsinkiTravelTimeMatrix2018\\\\\""
   ]
  },
  {
   "cell_type": "code",
   "execution_count": null,
   "id": "2e10cef4",
   "metadata": {},
   "outputs": [],
   "source": [
    "#Lists of tuples for the new columns to which to insert the data on avg travel times and number of jobs accessible within 30min\n",
    "#and paired with the travel time columns for each transport in order to loop through the files easier\n",
    "avg_ttimes=[(\"avg_ttime_car\", \"car_r_t\"), (\"avg_ttime_walk\", \"walk_t\"), (\"avg_ttime_bike\", \"bike_s_t\"), (\"avg_ttime_pt\", \"pt_r_t\")]\n",
    "njobs=[(\"njobs_car\", \"car_r_t\"), (\"njobs_pt\", \"pt_r_t\") , (\"njobs_bike\", \"bike_s_t\"), (\"njobs_walk\", \"walk_t\")]\n",
    "\n",
    "#Set up the max travel time for travelling to work to calculate the number of accessible jobs\n",
    "tt_max=30"
   ]
  },
  {
   "cell_type": "code",
   "execution_count": null,
   "id": "2dfe1eae",
   "metadata": {},
   "outputs": [],
   "source": [
    "#Set up the new columns to which to input the average travel times and number of jobs\n",
    "grid_data[\"avg_ttime_car\"]=None\n",
    "grid_data[\"avg_ttime_walk\"]=None\n",
    "grid_data[\"avg_ttime_bike\"]=None\n",
    "grid_data[\"avg_ttime_pt\"]=None\n",
    "\n",
    "grid_data[\"njobs_car\"]=None\n",
    "grid_data[\"njobs_pt\"]=None\n",
    "grid_data[\"njobs_walk\"]=None\n",
    "grid_data[\"njobs_bike\"]=None\n",
    "\n",
    "#Create a filter which takes in only the rows with adequate data on unemployment. Use this to filter through the travel matrix\n",
    "grid_data_filt=grid_data[grid_data[\"pop_pt_tyott\"].notnull() & (grid_data[\"pop_pt_tyott\"]!=-1)]\n",
    "\n",
    "#Start looping over all the travel time matrix text files containing the travel times to each cell\n",
    "dirlist=[x[0] for x in os.walk(matrixfold)]\n",
    "for fold in dirlist[1:]:\n",
    "        for f in os.listdir(fold):\n",
    "            file=pd.read_csv(str(fold)+\"\\\\\"+str(f), sep=\";\")\n",
    "            cellid=file[\"to_id\"][0]\n",
    "            \n",
    "            #Check if the cell is included in the dataframe (containing cells in which the number of unemployed has been presented)\n",
    "            #and join this data to the travel time data file\n",
    "            if cellid in grid_data_filt[\"YKR_ID\"].unique():\n",
    "                print(cellid)\n",
    "                \n",
    "                merged_file=file.merge(grid_data[[\"YKR_ID\", \"tp_tp_yht\"]], left_on=\"from_id\", right_on=\"YKR_ID\")\n",
    "                \n",
    "                #Loop over all the different transport modes, and calculate the number of jobs and average travel times for each\n",
    "                #of them. Also filter out the unreachable grid cells marked with -1. Insert this data to the corresponding\n",
    "                #column in the original grid data file\n",
    "                for tmean in njobs:\n",
    "                    jobnum=merged_file[(merged_file[tmean[1]]<tt_max) & (merged_file[tmean[1]]!=-1)][\"tp_tp_yht\"].sum()\n",
    "\n",
    "                    grid_data.loc[grid_data[\"YKR_ID\"]==cellid, tmean[0]]=jobnum\n",
    "                for tmean in avg_ttimes:\n",
    "\n",
    "                    ttime_mean=(pd.Series(merged_file[merged_file[tmean[1]]!=-1][tmean[1]]*merged_file[\"tp_tp_yht\"]).sum()/merged_file[\"tp_tp_yht\"].sum())\n",
    "\n",
    "                    grid_data.loc[grid_data[\"YKR_ID\"]==cellid, tmean[0]]=ttime_mean"
   ]
  },
  {
   "cell_type": "code",
   "execution_count": null,
   "id": "b623a254",
   "metadata": {},
   "outputs": [],
   "source": [
    "#Filter out the calculated grid data so that only cells where there were enough people and people in the workforce & unemployed\n",
    "#that the stats could be presented\n",
    "pop_grid_data=grid_data[grid_data[\"tyott\"].notnull() & (grid_data[\"pop_pt_tyott\"]!=-1) & (grid_data[\"pop_pt_tyoll\"]!=-1)]"
   ]
  },
  {
   "cell_type": "code",
   "execution_count": null,
   "id": "769a4eda",
   "metadata": {},
   "outputs": [],
   "source": [
    "#Save the calculated dataframes (with and without the population filter) to new files\n",
    "grid_data.to_file(\"ykr_jobaccess_calculated.gpkg\")\n",
    "\n",
    "pop_grid_data.to_file(\"ykr_jobaccess_calculated_popfilt.gpkg\")"
   ]
  },
  {
   "cell_type": "code",
   "execution_count": null,
   "id": "28acffc9",
   "metadata": {},
   "outputs": [],
   "source": [
    "#Change the datatype in the columns indicating the number of available jobs to int for better formatting\n",
    "pop_grid_data[\"njobs_walk\"]=pop_grid_data[\"njobs_walk\"].astype(\"int64\")\n",
    "pop_grid_data[\"njobs_car\"]=pop_grid_data[\"njobs_car\"].astype(\"int64\")\n",
    "pop_grid_data[\"njobs_bike\"]=pop_grid_data[\"njobs_bike\"].astype(\"int64\")\n",
    "pop_grid_data[\"njobs_pt\"]=pop_grid_data[\"njobs_pt\"].astype(\"int64\")"
   ]
  },
  {
   "cell_type": "code",
   "execution_count": null,
   "id": "bbaf453b",
   "metadata": {},
   "outputs": [],
   "source": [
    "#Correlation graphs presenting the unemployment % in the Y-axis and number of jobs in the X-axis\n",
    "\n",
    "fig, ax = plt.subplots(nrows=2, ncols=2, sharey=True, constrained_layout=True)\n",
    "\n",
    "\n",
    "i=0\n",
    "axlabels={\"njobs_car\": \"Car\",\n",
    "          \"njobs_walk\": \"Walking\",\n",
    "          \"njobs_bike\": \"Bicycle\",\n",
    "          \"njobs_pt\": \"Public Transport\"\n",
    "         }\n",
    "\n",
    "for row in ax:\n",
    "    for col in row:\n",
    "        x=njobs[i][0]\n",
    "        y=\"tyott\"\n",
    "\n",
    "\n",
    "        pop_grid_data.plot.scatter(x, y, s=1, ax=col)\n",
    "        m, b = np.polyfit(pop_grid_data[x], pop_grid_data[y], 1)\n",
    "\n",
    "        col.plot(pop_grid_data[x], m*pop_grid_data[x]+b, color=\"red\")\n",
    "        \n",
    "        spr=stats.spearmanr(pop_grid_data[x],pop_grid_data[y])\n",
    "        \n",
    "        col.set_xlabel(\"Jobs Reached by {} \\n Spearman cor:{:.8} \\n p: {} \\n\".format(axlabels[njobs[i][0]], spr[0], spr[1]))\n",
    "        col.set_ylabel(\"Unemployment (%)\", fontdict=dict(weight='bold'))\n",
    "        \n",
    "        i+=1"
   ]
  }
 ],
 "metadata": {
  "kernelspec": {
   "display_name": "Python 3 (ipykernel)",
   "language": "python",
   "name": "python3"
  },
  "language_info": {
   "codemirror_mode": {
    "name": "ipython",
    "version": 3
   },
   "file_extension": ".py",
   "mimetype": "text/x-python",
   "name": "python",
   "nbconvert_exporter": "python",
   "pygments_lexer": "ipython3",
   "version": "3.8.13"
  }
 },
 "nbformat": 4,
 "nbformat_minor": 5
}
